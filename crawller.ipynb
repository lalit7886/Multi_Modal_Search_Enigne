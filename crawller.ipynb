{
 "cells": [
  {
   "cell_type": "code",
   "execution_count": 1,
   "metadata": {},
   "outputs": [],
   "source": [
    "import requests\n",
    "import os\n",
    "from bs4 import BeautifulSoup\n",
    "from urllib.parse import urljoin\n",
    "from io import BytesIO"
   ]
  },
  {
   "cell_type": "code",
   "execution_count": 2,
   "metadata": {},
   "outputs": [
    {
     "name": "stdout",
     "output_type": "stream",
     "text": [
      "Status code: 200\n"
     ]
    }
   ],
   "source": [
    "start = \"https://www.wikipedia.org\"\n",
    "all_html= requests.get(start)\n",
    "print(\"Status code:\", all_html.status_code)\n"
   ]
  },
  {
   "cell_type": "code",
   "execution_count": 3,
   "metadata": {},
   "outputs": [
    {
     "name": "stdout",
     "output_type": "stream",
     "text": [
      "Links found: 371\n"
     ]
    }
   ],
   "source": [
    "content_html = BeautifulSoup(all_html.content, \"html.parser\")\n",
    "link = []\n",
    "for a_tag in content_html.find_all('a', href=True):\n",
    "    link.append(urljoin(start, a_tag['href']))\n",
    "    \n",
    "print(\"Links found:\", len(link))"
   ]
  },
  {
   "cell_type": "code",
   "execution_count": null,
   "metadata": {},
   "outputs": [],
   "source": [
    "import os\n",
    "import requests\n",
    "from bs4 import BeautifulSoup\n",
    "from urllib.parse import urljoin\n",
    "from PIL import Image\n",
    "from io import BytesIO\n",
    "\n",
    "images = []\n",
    "folder_name = \"downloaded_images\"\n",
    "os.makedirs(folder_name, exist_ok=True)\n",
    "image_count = 0\n",
    "\n",
    "for page_url in link:\n",
    "    response = requests.get(page_url)\n",
    "    \n",
    "    if response.status_code == 200:\n",
    "        soup = BeautifulSoup(response.content, \"html.parser\")\n",
    "        \n",
    "        for img_tag in soup.find_all('img', src=True):\n",
    "            img_src = img_tag['src']\n",
    "            img_url = urljoin(page_url, img_src)\n",
    "            \n",
    "            try:\n",
    "                img_response = requests.get(img_url, timeout=10)\n",
    "                img = Image.open(BytesIO(img_response.content))\n",
    "                width, height = img.size\n",
    "\n",
    "                if width < 100 or height < 100:\n",
    "                    print(f\"Skipped small image: {img_url} ({width}x{height})\")\n",
    "                    continue\n",
    "\n",
    "                file_name = os.path.join(folder_name, f\"image_{image_count}.jpg\")\n",
    "                img.save(file_name)  # Saves directly via PIL\n",
    "                images.append(img_url)\n",
    "                print(f\" Downloaded: image_{image_count}.jpg ({width}x{height})\")\n",
    "                image_count += 1\n",
    "\n",
    "            except Exception as e:\n",
    "                print(f\"Failed to download or process {img_url}: {e}\")\n",
    "\n",
    "print(f\"\\n Total images downloaded: {image_count}\")\n"
   ]
  },
  {
   "cell_type": "code",
   "execution_count": null,
   "metadata": {},
   "outputs": [],
   "source": []
  }
 ],
 "metadata": {
  "kernelspec": {
   "display_name": "Python 3",
   "language": "python",
   "name": "python3"
  },
  "language_info": {
   "codemirror_mode": {
    "name": "ipython",
    "version": 3
   },
   "file_extension": ".py",
   "mimetype": "text/x-python",
   "name": "python",
   "nbconvert_exporter": "python",
   "pygments_lexer": "ipython3",
   "version": "3.8.10"
  }
 },
 "nbformat": 4,
 "nbformat_minor": 2
}
